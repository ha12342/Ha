{
 "cells": [
  {
   "cell_type": "code",
   "execution_count": 51,
   "id": "7cf22447",
   "metadata": {},
   "outputs": [
    {
     "name": "stdout",
     "output_type": "stream",
     "text": [
      "Requirement already satisfied: swig in c:\\users\\ctarg416\\appdata\\local\\programs\\python\\python310\\lib\\site-packages (4.3.1)\n"
     ]
    },
    {
     "name": "stderr",
     "output_type": "stream",
     "text": [
      "\n",
      "[notice] A new release of pip is available: 25.0.1 -> 25.1.1\n",
      "[notice] To update, run: python.exe -m pip install --upgrade pip\n"
     ]
    },
    {
     "name": "stdout",
     "output_type": "stream",
     "text": [
      "Requirement already satisfied: gymnasium[box2d] in c:\\users\\ctarg416\\appdata\\local\\programs\\python\\python310\\lib\\site-packages (1.1.1)\n",
      "Requirement already satisfied: numpy>=1.21.0 in c:\\users\\ctarg416\\appdata\\local\\programs\\python\\python310\\lib\\site-packages (from gymnasium[box2d]) (2.1.3)\n",
      "Requirement already satisfied: cloudpickle>=1.2.0 in c:\\users\\ctarg416\\appdata\\local\\programs\\python\\python310\\lib\\site-packages (from gymnasium[box2d]) (3.1.1)\n",
      "Requirement already satisfied: typing-extensions>=4.3.0 in c:\\users\\ctarg416\\appdata\\roaming\\python\\python310\\site-packages (from gymnasium[box2d]) (4.12.2)\n",
      "Requirement already satisfied: farama-notifications>=0.0.1 in c:\\users\\ctarg416\\appdata\\local\\programs\\python\\python310\\lib\\site-packages (from gymnasium[box2d]) (0.0.4)\n",
      "Collecting box2d-py==2.3.5 (from gymnasium[box2d])\n",
      "  Using cached box2d-py-2.3.5.tar.gz (374 kB)\n",
      "  Preparing metadata (setup.py): started\n",
      "  Preparing metadata (setup.py): finished with status 'done'\n",
      "Requirement already satisfied: pygame>=2.1.3 in c:\\users\\ctarg416\\appdata\\local\\programs\\python\\python310\\lib\\site-packages (from gymnasium[box2d]) (2.6.1)\n",
      "Requirement already satisfied: swig==4.* in c:\\users\\ctarg416\\appdata\\local\\programs\\python\\python310\\lib\\site-packages (from gymnasium[box2d]) (4.3.1)\n",
      "Building wheels for collected packages: box2d-py\n",
      "  Building wheel for box2d-py (setup.py): started\n",
      "  Building wheel for box2d-py (setup.py): finished with status 'error'\n",
      "  Running setup.py clean for box2d-py\n",
      "Failed to build box2d-py\n"
     ]
    },
    {
     "name": "stderr",
     "output_type": "stream",
     "text": [
      "  error: subprocess-exited-with-error\n",
      "  \n",
      "  × python setup.py bdist_wheel did not run successfully.\n",
      "  │ exit code: 1\n",
      "  ╰─> [28 lines of output]\n",
      "      Using setuptools (version 65.5.0).\n",
      "      running bdist_wheel\n",
      "      running build\n",
      "      running build_py\n",
      "      creating build\n",
      "      creating build\\lib.win-amd64-cpython-310\n",
      "      creating build\\lib.win-amd64-cpython-310\\Box2D\n",
      "      copying library\\Box2D\\Box2D.py -> build\\lib.win-amd64-cpython-310\\Box2D\n",
      "      copying library\\Box2D\\__init__.py -> build\\lib.win-amd64-cpython-310\\Box2D\n",
      "      creating build\\lib.win-amd64-cpython-310\\Box2D\\b2\n",
      "      copying library\\Box2D\\b2\\__init__.py -> build\\lib.win-amd64-cpython-310\\Box2D\\b2\n",
      "      running build_ext\n",
      "      building 'Box2D._Box2D' extension\n",
      "      swigging Box2D\\Box2D.i to Box2D\\Box2D_wrap.cpp\n",
      "      swig.exe -python -c++ -IBox2D -small -O -includeall -ignoremissing -w201 -globals b2Globals -outdir library\\Box2D -keyword -w511 -D_SWIG_KWARGS -o Box2D\\Box2D_wrap.cpp Box2D\\Box2D.i\n",
      "      Box2D\\Common\\b2Math.h(67) : Warning 302: Redefinition of identifier 'b2Vec2' by %extend ignored,\n",
      "      Box2D\\Box2D_math.i(47) : Warning 302: %extend definition of 'b2Vec2'.\n",
      "      Box2D\\Common\\b2Math.h(158) : Warning 302: Redefinition of identifier 'b2Vec3' by %extend ignored,\n",
      "      Box2D\\Box2D_math.i(168) : Warning 302: %extend definition of 'b2Vec3'.\n",
      "      Box2D\\Common\\b2Math.h(197) : Warning 302: Redefinition of identifier 'b2Mat22' by %extend ignored,\n",
      "      Box2D\\Box2D_math.i(301) : Warning 302: %extend definition of 'b2Mat22'.\n",
      "      Box2D\\Common\\b2Math.h(271) : Warning 302: Redefinition of identifier 'b2Mat33' by %extend ignored,\n",
      "      Box2D\\Box2D_math.i(372) : Warning 302: %extend definition of 'b2Mat33'.\n",
      "      Box2D\\Collision\\b2DynamicTree.h(44) : Warning 312: Nested union not currently supported (ignored).\n",
      "      Box2D\\Common\\b2Settings.h(144) : Warning 506: Can't wrap varargs with keyword arguments enabled\n",
      "      Box2D\\Common\\b2Math.h(91) : Warning 509: Overloaded method b2Vec2::operator ()(int32) effectively ignored,\n",
      "      Box2D\\Common\\b2Math.h(85) : Warning 509: as it is shadowed by b2Vec2::operator ()(int32) const.\n",
      "      error: Microsoft Visual C++ 14.0 or greater is required. Get it with \"Microsoft C++ Build Tools\": https://visualstudio.microsoft.com/visual-cpp-build-tools/\n",
      "      [end of output]\n",
      "  \n",
      "  note: This error originates from a subprocess, and is likely not a problem with pip.\n",
      "  ERROR: Failed building wheel for box2d-py\n",
      "\n",
      "[notice] A new release of pip is available: 25.0.1 -> 25.1.1\n",
      "[notice] To update, run: python.exe -m pip install --upgrade pip\n",
      "ERROR: Failed to build installable wheels for some pyproject.toml based projects (box2d-py)\n"
     ]
    }
   ],
   "source": [
    "!pip install swig\n",
    "# !pip install Box2D\n",
    "# !pip install pygame\n",
    "!pip install \"gymnasium[box2d]\""
   ]
  },
  {
   "cell_type": "code",
   "execution_count": 52,
   "id": "5278a2e7",
   "metadata": {},
   "outputs": [],
   "source": [
    "import numpy as np\n",
    "import gymnasium as gym \n",
    "import os\n",
    "import tqdm\n",
    "import matplotlib.pyplot as plt\n",
    "\n",
    "import torch\n",
    "import torch.nn as nn\n",
    "import torch.nn.functional as F\n",
    "import torch.optim as optim\n",
    "from torch.distributions import Categorical\n",
    "\n",
    "from collections import deque\n",
    "from IPython.display import Image\n",
    "from matplotlib import animation\n",
    "from tqdm.notebook import tqdm\n"
   ]
  },
  {
   "cell_type": "markdown",
   "id": "5ce3937b",
   "metadata": {},
   "source": [
    "TẠO MÔI TRƯỜNG"
   ]
  },
  {
   "cell_type": "code",
   "execution_count": 53,
   "id": "3f221a55",
   "metadata": {},
   "outputs": [],
   "source": [
    "env = gym.make(\"LunarLander-v3\", continuous=False, gravity=-10.0,\n",
    "               enable_wind=False, wind_power=15.0, turbulence_power=1.5)\n",
    "state_space = env.observation_space.shape[0]\n",
    "action_space = env.action_space.n"
   ]
  },
  {
   "cell_type": "code",
   "execution_count": 54,
   "id": "5e22142a",
   "metadata": {},
   "outputs": [
    {
     "name": "stdout",
     "output_type": "stream",
     "text": [
      "State Space: 8\n",
      "Action Space: 4\n"
     ]
    }
   ],
   "source": [
    "state_space = env.observation_space.shape[0]\n",
    "print('State Space:', state_space)\n",
    "action_space = env.action_space.n\n",
    "print('Action Space:', action_space)"
   ]
  },
  {
   "cell_type": "markdown",
   "id": "73a12dd1",
   "metadata": {},
   "source": [
    "TẠO MẠNG NN CHO POLICY"
   ]
  },
  {
   "cell_type": "code",
   "execution_count": 67,
   "id": "edcccbb2",
   "metadata": {},
   "outputs": [],
   "source": [
    "class Policy(nn.Module):\n",
    "    def __init__(self , s_size , a_size , h_size ): #tạo mạng NN\n",
    "        super (Policy , self ).__init__ ()\n",
    "        self.fc1 = nn.Linear( s_size , h_size )\n",
    "        self.fc2 = nn.Linear( h_size , h_size * 2)\n",
    "        self.fc3 = nn.Linear( h_size * 2, a_size )\n",
    "    def forward(self , x): #thêm active function cho ra sorfmax của từng action\n",
    "        x = F.relu(self.fc1(x))\n",
    "        x = F.relu(self.fc2(x))\n",
    "        x = self.fc3(x)\n",
    "        return F.softmax(x, dim =1)\n",
    "    def act(self, state ): # Dụa vào prob của mỗi action tạo phân phối tuân theo nó để explore\n",
    "    \n",
    "        state = torch.from_numpy(state).float().unsqueeze(0)  #.to(device)\n",
    "        probs = self.forward(state).cpu()\n",
    "        m = Categorical(probs)\n",
    "        action = m.sample()\n",
    "        return action.item() , m.log_prob(action)"
   ]
  },
  {
   "cell_type": "markdown",
   "id": "2f105e5e",
   "metadata": {},
   "source": [
    "TRAINING FUNCTION"
   ]
  },
  {
   "cell_type": "code",
   "execution_count": null,
   "id": "84cd2ad9",
   "metadata": {},
   "outputs": [],
   "source": [
    "def reinforce(\n",
    "        policy ,\n",
    "        optimizer ,\n",
    "        n_training_episodes ,\n",
    "        max_steps ,\n",
    "        gamma ,\n",
    "        print_every\n",
    "        ):\n",
    "    scores_deque = deque( maxlen =100) #hàng đợi lưu 100 lần chơi gần nhất\n",
    "    scores = [] #lưu tổng phần thưởng từng lần chơi \n",
    "    for i_episode in range(1, n_training_episodes + 1):\n",
    "        saved_log_probs = [] #lưu log_proba từng episode\n",
    "        rewards = [] #lưu trữ thưởng\n",
    "        state = env.reset()[0] #đặt môi trường về ban đầu\n",
    "\n",
    "\n",
    "        #cho chơi hết 1 lượt để tạo ra chuỗi episode\n",
    "        for t in range(max_steps): #chạy các steps\n",
    "            action , log_prob = policy.act(state) #state sau khi qua policy train cho ra action và Log-probability của hành động đã chọn\n",
    "            saved_log_probs.append(log_prob) #log của probability của action đã chọn\n",
    "            state , reward , done , _, info = env.step(action) #thực hiện action và nhận phản hồi từ môi trường\n",
    "            rewards.append(reward) #lưu lại điểm thưởng\n",
    "            if done : #nếu done = True tức báo hiệu hết episode thì dừng\n",
    "                break\n",
    "\n",
    "\n",
    "\n",
    "        scores_deque.append(sum( rewards )) #lưu tổng rewards lại\n",
    "        scores.append(sum( rewards ))\n",
    "\n",
    "        returns = deque( maxlen = max_steps )\n",
    "        n_steps = len( rewards )\n",
    "\n",
    "        #tính Gt\n",
    "\n",
    "        for t in range( n_steps )[:: -1]:\n",
    "            disc_return_t = returns[0] if len( returns ) > 0 else 0\n",
    "            returns.appendleft( gamma*disc_return_t + rewards[t]) \n",
    "\n",
    "        eps = np.finfo(np.float32 ).eps.item()\n",
    "\n",
    "        returns = torch.tensor( returns )\n",
    "        returns = ( returns - returns.mean()) / ( returns.std() + eps)\n",
    "\n",
    "\n",
    "\n",
    "\n",
    "#tính hàm loss, đạo hàm theo GA tìm điểm optimaze\n",
    "        policy_loss = []\n",
    "        for log_prob , disc_return in zip( saved_log_probs , returns ):\n",
    "            policy_loss.append(-log_prob * disc_return ) #thay vì tìm max của hàm mục tiểu thì đổi thành tìm min của - hàm mục tiêu\n",
    "        policy_loss = torch.cat( policy_loss ).sum()\n",
    "\n",
    "#cập nhật lại trọng số cho NN\n",
    "        optimizer.zero_grad()\n",
    "        policy_loss.backward()\n",
    "        optimizer.step()\n",
    "\n",
    "        if i_episode % print_every == 0:\n",
    "            print(\"Episode {}\\tAverage Score: {:.2f}\".format(i_episode, np.mean(scores_deque)))\n",
    "    return scores #sau 1 khoảng thời gian trả về tổng reward\n",
    "\n",
    "\n",
    "## đầu tiên từng episode cho chạy hết steps đến khi nào dừng: tức từng state cho vào mạng NN xong cho ra action rồi prob\n",
    "# xong làm action đó, cứ làm đến khi nào vượt quá max steps or tàu bị hư thì dừng, rồi tính tổng reward\n",
    "# có data cho từng state, tính Gt\n",
    "# xong tính hàm loss\n",
    "# xong update lại các thông số của mạng NN\n",
    "# hết 1 episode\n",
    "## train đến khi nào hết episode là được mạng REINFORCE"
   ]
  },
  {
   "cell_type": "markdown",
   "id": "364bd139",
   "metadata": {},
   "source": [
    "CÁC THÔNG SỐ ĐỂ TRAIN "
   ]
  },
  {
   "cell_type": "code",
   "execution_count": 57,
   "id": "6ece9f4b",
   "metadata": {},
   "outputs": [],
   "source": [
    "h_size = 128\n",
    "lr = 0.001\n",
    "\n",
    "policy = Policy (\n",
    "        s_size = state_space ,\n",
    "        a_size = action_space ,\n",
    "        h_size = h_size ,\n",
    "        )\n",
    "optimizer = optim.Adam( policy.parameters() , lr=lr)\n",
    "\n",
    "n_training_episodes = 3000\n",
    "max_steps = 1000\n",
    "gamma = 0.99\n"
   ]
  },
  {
   "cell_type": "markdown",
   "id": "140c3537",
   "metadata": {},
   "source": []
  },
  {
   "cell_type": "code",
   "execution_count": 58,
   "id": "340ce138",
   "metadata": {},
   "outputs": [
    {
     "name": "stdout",
     "output_type": "stream",
     "text": [
      "Episode 100\tAverage Score: -161.42\n",
      "Episode 200\tAverage Score: -89.41\n",
      "Episode 300\tAverage Score: -33.70\n",
      "Episode 400\tAverage Score: 2.92\n",
      "Episode 500\tAverage Score: 10.43\n",
      "Episode 600\tAverage Score: 37.18\n",
      "Episode 700\tAverage Score: 61.35\n",
      "Episode 800\tAverage Score: 2.14\n",
      "Episode 900\tAverage Score: 3.44\n",
      "Episode 1000\tAverage Score: 77.69\n",
      "Episode 1100\tAverage Score: 110.91\n",
      "Episode 1200\tAverage Score: 123.40\n",
      "Episode 1300\tAverage Score: 105.64\n",
      "Episode 1400\tAverage Score: 117.87\n",
      "Episode 1500\tAverage Score: 71.83\n",
      "Episode 1600\tAverage Score: 66.73\n",
      "Episode 1700\tAverage Score: 107.41\n",
      "Episode 1800\tAverage Score: 152.44\n",
      "Episode 1900\tAverage Score: 88.51\n",
      "Episode 2000\tAverage Score: 114.84\n",
      "Episode 2100\tAverage Score: 145.52\n",
      "Episode 2200\tAverage Score: 149.70\n",
      "Episode 2300\tAverage Score: 151.40\n",
      "Episode 2400\tAverage Score: 115.60\n",
      "Episode 2500\tAverage Score: 155.58\n",
      "Episode 2600\tAverage Score: 130.51\n",
      "Episode 2700\tAverage Score: 139.85\n",
      "Episode 2800\tAverage Score: 112.37\n",
      "Episode 2900\tAverage Score: 176.49\n",
      "Episode 3000\tAverage Score: 166.86\n"
     ]
    }
   ],
   "source": [
    "scores = reinforce (\n",
    "        policy ,\n",
    "        optimizer ,\n",
    "        n_training_episodes ,\n",
    "        max_steps ,\n",
    "        gamma ,\n",
    "        print_every = 100)"
   ]
  },
  {
   "cell_type": "markdown",
   "id": "6f02ea4c",
   "metadata": {},
   "source": [
    "TẠO HÀM ĐỂ EVA MẠNG DRL ĐÃ TRAIN Ở TRÊN"
   ]
  },
  {
   "cell_type": "code",
   "execution_count": null,
   "id": "337c88de",
   "metadata": {},
   "outputs": [],
   "source": [
    "\n",
    "\n",
    "def evaluate_agent(\n",
    "        env,\n",
    "        max_steps,\n",
    "        n_eval_episodes,\n",
    "        policy,\n",
    "        seed\n",
    "    ):\n",
    "    episode_rewards = [] #chứa tổng reward ở mỗi episode\n",
    "    \n",
    "    for episode in range(n_eval_episodes):\n",
    "        if seed:\n",
    "            state = env.reset(seed=seed[episode])\n",
    "        else:\n",
    "            state = env.reset()\n",
    "            \n",
    "        step = 0\n",
    "        done = False\n",
    "        total_rewards_ep = 0 #tổng reward ở mỗi lần\n",
    "        \n",
    "        for step in range(max_steps):\n",
    "            action, _ = policy.act(state)\n",
    "            new_state, reward, done, _, info = env.step(action)\n",
    "            total_rewards_ep += reward\n",
    "            \n",
    "            if done:\n",
    "                break\n",
    "            \n",
    "            state = new_state\n",
    "            \n",
    "        episode_rewards.append(total_rewards_ep) #lưu tổng reward ở lần episode này lại\n",
    "    \n",
    "    mean_reward = np.mean(episode_rewards)\n",
    "    std_reward = np.std(episode_rewards)\n",
    "    \n",
    "    return mean_reward, std_reward\n"
   ]
  },
  {
   "cell_type": "code",
   "execution_count": null,
   "id": "eae3b64b",
   "metadata": {},
   "outputs": [
    {
     "ename": "TypeError",
     "evalue": "'int' object is not subscriptable",
     "output_type": "error",
     "traceback": [
      "\u001b[1;31m---------------------------------------------------------------------------\u001b[0m",
      "\u001b[1;31mTypeError\u001b[0m                                 Traceback (most recent call last)",
      "Cell \u001b[1;32mIn[68], line 3\u001b[0m\n\u001b[0;32m      1\u001b[0m n_eval_episodes \u001b[38;5;241m=\u001b[39m \u001b[38;5;241m10\u001b[39m\n\u001b[1;32m----> 3\u001b[0m mean_reward, std_reward \u001b[38;5;241m=\u001b[39m \u001b[43mevaluate_agent\u001b[49m\u001b[43m(\u001b[49m\n\u001b[0;32m      4\u001b[0m \u001b[43m    \u001b[49m\u001b[43menv\u001b[49m\u001b[38;5;241;43m=\u001b[39;49m\u001b[43menv\u001b[49m\u001b[43m,\u001b[49m\n\u001b[0;32m      5\u001b[0m \u001b[43m    \u001b[49m\u001b[43mmax_steps\u001b[49m\u001b[38;5;241;43m=\u001b[39;49m\u001b[43mmax_steps\u001b[49m\u001b[43m,\u001b[49m\n\u001b[0;32m      6\u001b[0m \u001b[43m    \u001b[49m\u001b[43mn_eval_episodes\u001b[49m\u001b[38;5;241;43m=\u001b[39;49m\u001b[43mn_eval_episodes\u001b[49m\u001b[43m,\u001b[49m\n\u001b[0;32m      7\u001b[0m \u001b[43m    \u001b[49m\u001b[43mpolicy\u001b[49m\u001b[38;5;241;43m=\u001b[39;49m\u001b[43mpolicy\u001b[49m\u001b[43m,\u001b[49m\n\u001b[0;32m      8\u001b[0m \u001b[43m    \u001b[49m\u001b[43mseed\u001b[49m\u001b[38;5;241;43m=\u001b[39;49m\u001b[38;5;241;43m10\u001b[39;49m\n\u001b[0;32m      9\u001b[0m \u001b[43m)\u001b[49m\n\u001b[0;32m     11\u001b[0m \u001b[38;5;28mprint\u001b[39m(\u001b[38;5;124mf\u001b[39m\u001b[38;5;124m\"\u001b[39m\u001b[38;5;124mMean Reward: \u001b[39m\u001b[38;5;132;01m{\u001b[39;00mmean_reward\u001b[38;5;132;01m}\u001b[39;00m\u001b[38;5;124m, Standard Deviation: \u001b[39m\u001b[38;5;132;01m{\u001b[39;00mstd_reward\u001b[38;5;132;01m}\u001b[39;00m\u001b[38;5;124m\"\u001b[39m)\n",
      "Cell \u001b[1;32mIn[59], line 12\u001b[0m, in \u001b[0;36mevaluate_agent\u001b[1;34m(env, max_steps, n_eval_episodes, policy, seed)\u001b[0m\n\u001b[0;32m     10\u001b[0m \u001b[38;5;28;01mfor\u001b[39;00m episode \u001b[38;5;129;01min\u001b[39;00m \u001b[38;5;28mrange\u001b[39m(n_eval_episodes):\n\u001b[0;32m     11\u001b[0m     \u001b[38;5;28;01mif\u001b[39;00m seed:\n\u001b[1;32m---> 12\u001b[0m         state \u001b[38;5;241m=\u001b[39m env\u001b[38;5;241m.\u001b[39mreset(seed\u001b[38;5;241m=\u001b[39m\u001b[43mseed\u001b[49m\u001b[43m[\u001b[49m\u001b[43mepisode\u001b[49m\u001b[43m]\u001b[49m)\n\u001b[0;32m     13\u001b[0m     \u001b[38;5;28;01melse\u001b[39;00m:\n\u001b[0;32m     14\u001b[0m         state \u001b[38;5;241m=\u001b[39m env\u001b[38;5;241m.\u001b[39mreset()\n",
      "\u001b[1;31mTypeError\u001b[0m: 'int' object is not subscriptable"
     ]
    }
   ],
   "source": [
    "n_eval_episodes = 10\n",
    "\n",
    "mean_reward, std_reward = evaluate_agent(\n",
    "    env=env,\n",
    "    max_steps=max_steps,\n",
    "    n_eval_episodes=n_eval_episodes,\n",
    "    policy=policy,\n",
    "    seed=range(n_eval_episodes)\n",
    ")\n",
    "\n",
    "print(f\"Mean Reward: {mean_reward}, Standard Deviation: {std_reward}\")\n"
   ]
  },
  {
   "cell_type": "code",
   "execution_count": 69,
   "id": "c0a3dbe5",
   "metadata": {},
   "outputs": [
    {
     "data": {
      "image/png": "[encoded data removed]",
      "text/plain": [
       "<Figure size 640x480 with 1 Axes>"
      ]
     },
     "metadata": {},
     "output_type": "display_data"
    }
   ],
   "source": [
    "# Plotting the rewards per episode\n",
    "import matplotlib.pyplot as plt\n",
    "plt.plot(scores)\n",
    "plt.xlabel('Episode')\n",
    "plt.ylabel('Reward')\n",
    "plt.title('REINFORCE on LunarLander')\n",
    "plt.show()"
   ]
  }
 ],
 "metadata": {
  "kernelspec": {
   "display_name": "Python 3",
   "language": "python",
   "name": "python3"
  },
  "language_info": {
   "codemirror_mode": {
    "name": "ipython",
    "version": 3
   },
   "file_extension": ".py",
   "mimetype": "text/x-python",
   "name": "python",
   "nbconvert_exporter": "python",
   "pygments_lexer": "ipython3",
   "version": "3.10.11"
  }
 },
 "nbformat": 4,
 "nbformat_minor": 5
}
